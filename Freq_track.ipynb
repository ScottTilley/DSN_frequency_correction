{
 "cells": [
  {
   "cell_type": "code",
   "execution_count": 1,
   "metadata": {},
   "outputs": [],
   "source": [
    "# DSN Doppler frequency correction for GQRX\n",
    "# Requires GMAT .gmd file with time and rangerate data\n",
    "# Scott Tilley, VE7TIL \n",
    "\n",
    "import telnetlib\n",
    "import numpy as np\n",
    "import time\n",
    "from astropy.time import Time\n",
    "from scipy.constants import c\n",
    "from datetime import datetime"
   ]
  },
  {
   "cell_type": "code",
   "execution_count": 2,
   "metadata": {},
   "outputs": [],
   "source": [
    "HOST = \"localhost\"\n",
    "PORT = \"7356\"\n",
    "\n",
    "tn = telnetlib.Telnet(HOST, PORT)"
   ]
  },
  {
   "cell_type": "code",
   "execution_count": 3,
   "metadata": {},
   "outputs": [],
   "source": [
    "f_carrier = 8431016530.542998 # nominal carrier freqeuncy of TIANWEN-1"
   ]
  },
  {
   "cell_type": "code",
   "execution_count": 4,
   "metadata": {},
   "outputs": [],
   "source": [
    "def writeCommand(cmd):\n",
    "    tn.write(('%s\\n' % cmd).encode('ascii'))\n",
    "    return tn.read_some().decode('ascii').strip();\n",
    "\n",
    "def writeFreq(freq):\n",
    "    writeCommand(\"F \" + str(freq))\n"
   ]
  },
  {
   "cell_type": "code",
   "execution_count": 5,
   "metadata": {},
   "outputs": [
    {
     "name": "stdout",
     "output_type": "stream",
     "text": [
      "None\n"
     ]
    }
   ],
   "source": [
    "freq = 8430.8e6\n",
    "response = writeFreq(freq)\n",
    "print(response)"
   ]
  },
  {
   "cell_type": "code",
   "execution_count": 6,
   "metadata": {},
   "outputs": [],
   "source": [
    "gmd_file = '/home/scott/code/GMAT/R2020a/output/ve7til_2020_11_3.gmd' #uses state vector 2020-10-30T03:43:22.9642\n",
    "gmd_mjd = []\n",
    "gmd_rangerate = []\n",
    "with open(gmd_file) as f:\n",
    "    for l in f.readlines()[2:]:\n",
    "        gmd_mjd.append(float(l.split()[0]))\n",
    "        gmd_rangerate.append(float(l.split()[-1]))\n",
    "gmd_mjd = np.array(gmd_mjd)\n",
    "gmd_rangerate = np.array(gmd_rangerate)\n",
    "t_gmd = Time(gmd_mjd + (2430000.0 - 2400000.5), scale = 'tai', format = 'mjd')\n"
   ]
  },
  {
   "cell_type": "code",
   "execution_count": null,
   "metadata": {},
   "outputs": [
    {
     "name": "stdout",
     "output_type": "stream",
     "text": [
      "Frequency 8430704700\r"
     ]
    }
   ],
   "source": [
    "t_data = Time(Time.now(), format = 'mjd')\n",
    "i = 0  \n",
    "\n",
    "#Find initial index\n",
    "while t_gmd[i].to_value('mjd', 'long') < t_data.to_value('mjd', 'long'):\n",
    "    i = i + 1\n",
    "    freq_last = f_carrier * (1 - 1e3*gmd_rangerate[i]/c)\n",
    "    \n",
    "\n",
    "#loop forever and only update freqeuncy when a change is required based on rangerate data    \n",
    "while True:\n",
    "    t_data = Time(Time.now(), format = 'mjd')\n",
    "  \n",
    "    while t_gmd[i].to_value('mjd', 'long') < t_data.to_value('mjd', 'long'):  \n",
    "        freq = f_carrier * (1 - 1e3*gmd_rangerate[i]/c)\n",
    "        \n",
    "        if int(freq) != int(freq_last):\n",
    "            writeFreq(freq)\n",
    "            print(\"Frequency {:}\".format(int(freq)), end=\"\\r\")\n",
    "            freq_last = freq\n",
    "        i = i + 1  \n",
    "    #time.sleep(0.1)      \n",
    "    "
   ]
  },
  {
   "cell_type": "code",
   "execution_count": null,
   "metadata": {},
   "outputs": [],
   "source": []
  },
  {
   "cell_type": "code",
   "execution_count": null,
   "metadata": {},
   "outputs": [],
   "source": []
  }
 ],
 "metadata": {
  "kernelspec": {
   "display_name": "Python 3",
   "language": "python",
   "name": "python3"
  },
  "language_info": {
   "codemirror_mode": {
    "name": "ipython",
    "version": 3
   },
   "file_extension": ".py",
   "mimetype": "text/x-python",
   "name": "python",
   "nbconvert_exporter": "python",
   "pygments_lexer": "ipython3",
   "version": "3.6.9"
  }
 },
 "nbformat": 4,
 "nbformat_minor": 4
}
